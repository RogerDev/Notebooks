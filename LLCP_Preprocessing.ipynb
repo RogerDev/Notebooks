{
 "cells": [
  {
   "cell_type": "code",
   "execution_count": null,
   "metadata": {},
   "outputs": [],
   "source": []
  },
  {
   "cell_type": "code",
   "execution_count": 1,
   "metadata": {},
   "outputs": [
    {
     "name": "stderr",
     "output_type": "stream",
     "text": [
      "/usr/local/lib/python3.8/dist-packages/pandas/io/sas/sas_xport.py:475: PerformanceWarning: DataFrame is highly fragmented.  This is usually the result of calling `frame.insert` many times, which has poor performance.  Consider joining all columns at once using pd.concat(axis=1) instead.  To get a de-fragmented frame, use `newframe = frame.copy()`\n",
      "  df[x] = v\n"
     ]
    }
   ],
   "source": [
    "import pandas\n",
    "import numpy as np\n",
    "df = pandas.read_sas('/home/roger/Datasets/LLCP2020.XPT')"
   ]
  },
  {
   "cell_type": "code",
   "execution_count": null,
   "metadata": {},
   "outputs": [],
   "source": [
    "#df2 = df[np.logical_and(df.SEXVAR in [1,2], )]"
   ]
  },
  {
   "cell_type": "code",
   "execution_count": null,
   "metadata": {},
   "outputs": [],
   "source": [
    "#cols = list(df.columns)"
   ]
  },
  {
   "cell_type": "code",
   "execution_count": null,
   "metadata": {},
   "outputs": [],
   "source": [
    "#for col in cols:\n",
    "#    if 'AGE' in col or 'WEIGHT' in col:\n",
    "#        print(col)"
   ]
  },
  {
   "cell_type": "code",
   "execution_count": null,
   "metadata": {},
   "outputs": [],
   "source": []
  },
  {
   "cell_type": "code",
   "execution_count": null,
   "metadata": {},
   "outputs": [],
   "source": [
    "print(df.shape, df2.shape)"
   ]
  },
  {
   "cell_type": "code",
   "execution_count": 5,
   "metadata": {},
   "outputs": [],
   "source": [
    "df2 = df.query('SEXVAR.isin([1,2]) & WEIGHT2 < 776 & HTIN4 >= 36 & HTIN4 <= 95 & _AGE_G >= 1 & _AGE_G <= 6 & GENHLTH >=1 &GENHLTH<=5 & INCOME2')"
   ]
  },
  {
   "cell_type": "code",
   "execution_count": 85,
   "metadata": {},
   "outputs": [
    {
     "name": "stdout",
     "output_type": "stream",
     "text": [
      "(401958, 279) (359460, 279)\n"
     ]
    }
   ],
   "source": [
    "print(df.shape, df2.shape)"
   ]
  },
  {
   "cell_type": "code",
   "execution_count": 6,
   "metadata": {
    "scrolled": true
   },
   "outputs": [],
   "source": [
    "df3 = pandas.DataFrame()\n"
   ]
  },
  {
   "cell_type": "code",
   "execution_count": 12,
   "metadata": {},
   "outputs": [],
   "source": [
    "ailmentMap = {1:'yes',2:'no',3:'unknown',7:'unknown', 9:'unknown','': 'no'}\n",
    "diabetesMap = {1:'yes', 2:'no', 3:'no', 4:'no', 7:'no', 9:'no'}\n",
    "maritalMap = {1:'married',2:'divorced',3:'widowed',4:'separated',5:'nevermarried', 6:'unmarriedcouple',9:'unknown'}\n",
    "maritalSummary = {1:'yes',2:'no',3:'no', 4:'yes', 5:'no', 6:'no', 9:'unknown'}\n",
    "educationMap = {1:'6-none', 2:'5-elementary', 3:'4-somehs', 4:'3-hs',5:'2-somecollege',6:'1-college', 9:'7-unknown'}\n",
    "veteranMap = {1:'yes',2:'no', 7:'unknown', 9:'unknown'}\n",
    "stateMap = {1:'AZ', 2:'AK', 4:'AZ',5:'AR',6:'CA', 8:'CO', 9:'CT',10:'DE',11:'DC',12:'FL',13:'GA',\n",
    "           15:'HI',16:'ID',17:'IL',18:'IN',19:'IA',20:'KS', 21:'KY',22:'LA',23:'ME', 24:'MD', 25:'MA',26:'MI',\n",
    "           27:'MN',28:'MS', 29:'MO', 30:'MT', 31:'NE',32:'NV', 33:'NH', 34:'NJ', 35:'NM',36:'NY', 37:'NC',\n",
    "           38:'ND', 39:'OH',40:'OK',41:'OR', 42:'PA',44:'RI',45:'SC', 46:'SD', 47:'TN', 48:'TX', 49:'UT',\n",
    "           50:'VT', 51:'VA', 53:'WA', 54:'WV',55:'WI', 56:'WY', 66:'Guam', 72:'PR'}\n",
    "df3['age'] = df2['_AGE80']\n",
    "df3['gender'] = df2['SEXVAR'].map({1:'male',2:'female'})\n",
    "df3['weight'] = df2['WEIGHT2']\n",
    "df3['height'] = df2['HTIN4']\n",
    "df3['ageGroup'] = df2['_AGE_G']\n",
    "df3['genhealth'] = df2['GENHLTH'].map({1:'1-excellent',2:'2-verygood',3:'3-good',4:'4-fair',5:'5-poor'})\n",
    "df3['asthma_ever'] = df2['ASTHMA3'].map(ailmentMap)\n",
    "df3['asthma'] = df2['ASTHNOW'].map(ailmentMap)\n",
    "df3['skincancer'] = df2['CHCSCNCR'].map(ailmentMap)\n",
    "df3['othercancer'] = df2['CHCOCNCR'].map(ailmentMap)\n",
    "df3['copd'] = df2['CHCCOPD2'].map(ailmentMap)\n",
    "df3['arthritis'] = df2['HAVARTH4'].map(ailmentMap)\n",
    "df3['depression'] = df2['ADDEPEV3'].map(ailmentMap)\n",
    "df3['kidneydis'] = df2['CHCKDNY2'].map(ailmentMap)\n",
    "df3['diabetes'] = df2['DIABETE4'].map(diabetesMap)\n",
    "df3['maritaldetail'] = df2['MARITAL'].map(maritalMap)\n",
    "df3['married'] = df2['MARITAL'].map(maritalSummary)\n",
    "df3['education'] = df2['EDUCA'].map(educationMap)\n",
    "df3['veteran'] = df2['VETERAN3'].map(ailmentMap)\n",
    "df3['income'] = df2['INCOME2']\n",
    "df3['state'] = df2['_STATE'].map(stateMap)"
   ]
  },
  {
   "cell_type": "code",
   "execution_count": 97,
   "metadata": {},
   "outputs": [
    {
     "data": {
      "text/html": [
       "<div>\n",
       "<style scoped>\n",
       "    .dataframe tbody tr th:only-of-type {\n",
       "        vertical-align: middle;\n",
       "    }\n",
       "\n",
       "    .dataframe tbody tr th {\n",
       "        vertical-align: top;\n",
       "    }\n",
       "\n",
       "    .dataframe thead th {\n",
       "        text-align: right;\n",
       "    }\n",
       "</style>\n",
       "<table border=\"1\" class=\"dataframe\">\n",
       "  <thead>\n",
       "    <tr style=\"text-align: right;\">\n",
       "      <th></th>\n",
       "      <th>age</th>\n",
       "      <th>weight</th>\n",
       "      <th>height</th>\n",
       "      <th>ageGroup</th>\n",
       "      <th>income</th>\n",
       "    </tr>\n",
       "  </thead>\n",
       "  <tbody>\n",
       "    <tr>\n",
       "      <th>count</th>\n",
       "      <td>359460.000000</td>\n",
       "      <td>359460.000000</td>\n",
       "      <td>359460.000000</td>\n",
       "      <td>359460.000000</td>\n",
       "      <td>359460.000000</td>\n",
       "    </tr>\n",
       "    <tr>\n",
       "      <th>mean</th>\n",
       "      <td>54.581472</td>\n",
       "      <td>181.787025</td>\n",
       "      <td>67.072790</td>\n",
       "      <td>4.359281</td>\n",
       "      <td>19.330326</td>\n",
       "    </tr>\n",
       "    <tr>\n",
       "      <th>std</th>\n",
       "      <td>17.764701</td>\n",
       "      <td>46.315380</td>\n",
       "      <td>4.198069</td>\n",
       "      <td>1.621580</td>\n",
       "      <td>30.745848</td>\n",
       "    </tr>\n",
       "    <tr>\n",
       "      <th>min</th>\n",
       "      <td>18.000000</td>\n",
       "      <td>50.000000</td>\n",
       "      <td>36.000000</td>\n",
       "      <td>1.000000</td>\n",
       "      <td>1.000000</td>\n",
       "    </tr>\n",
       "    <tr>\n",
       "      <th>25%</th>\n",
       "      <td>40.000000</td>\n",
       "      <td>150.000000</td>\n",
       "      <td>64.000000</td>\n",
       "      <td>3.000000</td>\n",
       "      <td>5.000000</td>\n",
       "    </tr>\n",
       "    <tr>\n",
       "      <th>50%</th>\n",
       "      <td>57.000000</td>\n",
       "      <td>175.000000</td>\n",
       "      <td>67.000000</td>\n",
       "      <td>5.000000</td>\n",
       "      <td>7.000000</td>\n",
       "    </tr>\n",
       "    <tr>\n",
       "      <th>75%</th>\n",
       "      <td>69.000000</td>\n",
       "      <td>205.000000</td>\n",
       "      <td>70.000000</td>\n",
       "      <td>6.000000</td>\n",
       "      <td>8.000000</td>\n",
       "    </tr>\n",
       "    <tr>\n",
       "      <th>max</th>\n",
       "      <td>80.000000</td>\n",
       "      <td>758.000000</td>\n",
       "      <td>94.000000</td>\n",
       "      <td>6.000000</td>\n",
       "      <td>99.000000</td>\n",
       "    </tr>\n",
       "  </tbody>\n",
       "</table>\n",
       "</div>"
      ],
      "text/plain": [
       "                 age         weight         height       ageGroup  \\\n",
       "count  359460.000000  359460.000000  359460.000000  359460.000000   \n",
       "mean       54.581472     181.787025      67.072790       4.359281   \n",
       "std        17.764701      46.315380       4.198069       1.621580   \n",
       "min        18.000000      50.000000      36.000000       1.000000   \n",
       "25%        40.000000     150.000000      64.000000       3.000000   \n",
       "50%        57.000000     175.000000      67.000000       5.000000   \n",
       "75%        69.000000     205.000000      70.000000       6.000000   \n",
       "max        80.000000     758.000000      94.000000       6.000000   \n",
       "\n",
       "              income  \n",
       "count  359460.000000  \n",
       "mean       19.330326  \n",
       "std        30.745848  \n",
       "min         1.000000  \n",
       "25%         5.000000  \n",
       "50%         7.000000  \n",
       "75%         8.000000  \n",
       "max        99.000000  "
      ]
     },
     "execution_count": 97,
     "metadata": {},
     "output_type": "execute_result"
    }
   ],
   "source": [
    "df3.describe()"
   ]
  },
  {
   "cell_type": "code",
   "execution_count": 98,
   "metadata": {},
   "outputs": [
    {
     "data": {
      "text/plain": [
       "Index(['age', 'gender', 'weight', 'height', 'ageGroup', 'genhealth',\n",
       "       'asthma_ever', 'skincancer', 'othercancer', 'copd', 'arthritis',\n",
       "       'depression', 'kidneydis', 'diabetes', 'maritaldetail', 'married',\n",
       "       'education', 'veteran', 'income', 'state'],\n",
       "      dtype='object')"
      ]
     },
     "execution_count": 98,
     "metadata": {},
     "output_type": "execute_result"
    }
   ],
   "source": [
    "df3.columns\n"
   ]
  },
  {
   "cell_type": "code",
   "execution_count": 99,
   "metadata": {},
   "outputs": [
    {
     "data": {
      "text/plain": [
       "count       359460\n",
       "unique           5\n",
       "top       verygood\n",
       "freq        125114\n",
       "Name: genhealth, dtype: object"
      ]
     },
     "execution_count": 99,
     "metadata": {},
     "output_type": "execute_result"
    }
   ],
   "source": [
    "df3.genhealth.describe()\n"
   ]
  },
  {
   "cell_type": "code",
   "execution_count": 13,
   "metadata": {},
   "outputs": [],
   "source": [
    "df3.to_csv('/home/roger/Datasets/llcp.csv', index=False)"
   ]
  },
  {
   "cell_type": "code",
   "execution_count": 94,
   "metadata": {},
   "outputs": [
    {
     "data": {
      "text/plain": [
       "<matplotlib.collections.PathCollection at 0x7f88a99aa400>"
      ]
     },
     "execution_count": 94,
     "metadata": {},
     "output_type": "execute_result"
    },
    {
     "data": {
      "image/png": "[encoded data removed]",
      "text/plain": [
       "<Figure size 432x288 with 1 Axes>"
      ]
     },
     "metadata": {
      "needs_background": "light"
     },
     "output_type": "display_data"
    }
   ],
   "source": [
    "import matplotlib.pyplot as plt\n",
    "plt.scatter(df3.height, df3.weight)"
   ]
  },
  {
   "cell_type": "code",
   "execution_count": null,
   "metadata": {},
   "outputs": [],
   "source": []
  }
 ],
 "metadata": {
  "kernelspec": {
   "display_name": "Python 3",
   "language": "python",
   "name": "python3"
  },
  "language_info": {
   "codemirror_mode": {
    "name": "ipython",
    "version": 3
   },
   "file_extension": ".py",
   "mimetype": "text/x-python",
   "name": "python",
   "nbconvert_exporter": "python",
   "pygments_lexer": "ipython3",
   "version": "3.8.10"
  }
 },
 "nbformat": 4,
 "nbformat_minor": 4
}
