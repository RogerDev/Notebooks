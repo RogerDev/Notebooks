{
 "cells": [
  {
   "cell_type": "code",
   "execution_count": 1,
   "metadata": {},
   "outputs": [
    {
     "data": {
      "text/plain": [
       "'/home/roger/source/Because/because/models/M3.csv'"
      ]
     },
     "execution_count": 1,
     "metadata": {},
     "output_type": "execute_result"
    }
   ],
   "source": [
    "from because.synth import Gen\n",
    "\n",
    "\n",
    "gen = Gen(semFilePath='/home/roger/source/Because/because/models/M3.py')\n",
    "\n",
    "gen.generate(1000)\n",
    "#print([sample for sample in gen.samples(100)])"
   ]
  },
  {
   "cell_type": "code",
   "execution_count": 2,
   "metadata": {},
   "outputs": [
    {
     "data": {
      "text/plain": [
       "'/home/roger/tempout.csv'"
      ]
     },
     "execution_count": 2,
     "metadata": {},
     "output_type": "execute_result"
    }
   ],
   "source": [
    "sem = ['A = normal(0, 1)', \n",
    "        'B = logistic(1, 2)',\n",
    "        'C = tanh(A + B) + normal(0, .5)']\n",
    "\n",
    "model = ['A', 'B', 'C']\n",
    "       \n",
    "gen = Gen(mod=model, sem=sem)\n",
    "\n",
    "gen.getDataset(100)\n",
    "\n",
    "gen.generate(100, outFile = '/home/roger/tempout.csv')\n",
    "\n"
   ]
  },
  {
   "cell_type": "code",
   "execution_count": 6,
   "metadata": {},
   "outputs": [
    {
     "data": {
      "text/plain": [
       "0.004732539373529188"
      ]
     },
     "execution_count": 6,
     "metadata": {},
     "output_type": "execute_result"
    }
   ],
   "source": [
    "from because.probability import ProbSpace\n",
    "sem = ['A = normal(0, 1)', \n",
    "        'B = logistic(1, 2)',\n",
    "        'C = tanh(A + B) + normal(0, .5)']\n",
    "\n",
    "model = ['A', 'B', 'C']\n",
    "       \n",
    "gen = Gen(mod=model, sem=sem)\n",
    "\n",
    "ds = gen.getDataset(1000)\n",
    "\n",
    "ps = ProbSpace(ds)\n",
    "\n",
    "d = ps.distr('A')\n",
    "\n",
    "d.P(3)"
   ]
  },
  {
   "cell_type": "code",
   "execution_count": 7,
   "metadata": {},
   "outputs": [
    {
     "data": {
      "text/plain": [
       "0.022787588153076264"
      ]
     },
     "execution_count": 7,
     "metadata": {},
     "output_type": "execute_result"
    }
   ],
   "source": [
    "d.P((2,3))"
   ]
  },
  {
   "cell_type": "code",
   "execution_count": 8,
   "metadata": {},
   "outputs": [
    {
     "data": {
      "text/plain": [
       "0.5027530516099592"
      ]
     },
     "execution_count": 8,
     "metadata": {},
     "output_type": "execute_result"
    }
   ],
   "source": [
    "d.P((None, 0))"
   ]
  },
  {
   "cell_type": "code",
   "execution_count": 9,
   "metadata": {},
   "outputs": [
    {
     "data": {
      "text/plain": [
       "[(-3.1583467862764656, -2.9470437370945897, 0.002),\n",
       " (-2.9470437370945897, -2.7357406879127137, 0.001),\n",
       " (-2.7357406879127137, -2.524437638730838, 0.002),\n",
       " (-2.524437638730838, -2.3131345895489623, 0.002),\n",
       " (-2.3131345895489623, -2.101831540367086, 0.007),\n",
       " (-2.101831540367086, -1.8905284911852105, 0.012),\n",
       " (-1.8905284911852105, -1.6792254420033346, 0.014),\n",
       " (-1.6792254420033346, -1.4679223928214586, 0.028),\n",
       " (-1.4679223928214586, -1.2566193436395827, 0.031),\n",
       " (-1.2566193436395827, -1.0453162944577068, 0.047),\n",
       " (-1.0453162944577068, -0.8340132452758309, 0.06),\n",
       " (-0.8340132452758309, -0.6227101960939554, 0.063),\n",
       " (-0.6227101960939554, -0.41140714691207947, 0.06),\n",
       " (-0.41140714691207947, -0.20010409773020355, 0.08),\n",
       " (-0.20010409773020355, 0.011198951451672379, 0.099),\n",
       " (0.011198951451672379, 0.2225020006335483, 0.093),\n",
       " (0.2225020006335483, 0.4338050498154242, 0.078),\n",
       " (0.4338050498154242, 0.6451080989973002, 0.067),\n",
       " (0.6451080989973002, 0.8564111481791756, 0.047),\n",
       " (0.8564111481791756, 1.067714197361052, 0.054),\n",
       " (1.067714197361052, 1.2790172465429275, 0.039),\n",
       " (1.2790172465429275, 1.4903202957248038, 0.033),\n",
       " (1.4903202957248038, 1.7016233449066793, 0.025),\n",
       " (1.7016233449066793, 1.9129263940885548, 0.026),\n",
       " (1.9129263940885548, 2.124229443270431, 0.013),\n",
       " (2.124229443270431, 2.3355324924523067, 0.006),\n",
       " (2.3355324924523067, 2.546835541634183, 0.005),\n",
       " (2.546835541634183, 2.7581385908160585, 0.002),\n",
       " (2.7581385908160585, 2.969441639997935, 0.002),\n",
       " (2.969441639997935, 3.1807446891798103, 0.001),\n",
       " (3.1807446891798103, 3.392047738361687, 0.001)]"
      ]
     },
     "execution_count": 9,
     "metadata": {},
     "output_type": "execute_result"
    }
   ],
   "source": [
    "d.ToHistTuple()"
   ]
  },
  {
   "cell_type": "code",
   "execution_count": null,
   "metadata": {},
   "outputs": [],
   "source": []
  }
 ],
 "metadata": {
  "kernelspec": {
   "display_name": "Python 3",
   "language": "python",
   "name": "python3"
  },
  "language_info": {
   "codemirror_mode": {
    "name": "ipython",
    "version": 3
   },
   "file_extension": ".py",
   "mimetype": "text/x-python",
   "name": "python",
   "nbconvert_exporter": "python",
   "pygments_lexer": "ipython3",
   "version": "3.8.10"
  }
 },
 "nbformat": 4,
 "nbformat_minor": 4
}
