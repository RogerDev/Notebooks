{
 "cells": [
  {
   "cell_type": "code",
   "execution_count": 179,
   "metadata": {},
   "outputs": [],
   "source": [
    "class Parser:\n",
    "    def fixupBrak(s):\n",
    "        orig = s\n",
    "        pos1 = 0\n",
    "        pos2 = 0\n",
    "        while pos1 >= 0:\n",
    "            pos1 = s.find('[', pos2)\n",
    "            if pos1 >= 0:\n",
    "                pos2 = s.find(']', pos1)\n",
    "                assert pos2 >= 0, 'Error parsing probability query.  Mismatched brackets in:' + orig\n",
    "                if pos2 >= 0:\n",
    "                    inner = s[pos1+1:pos2]\n",
    "                    inner = inner.replace(',',';')\n",
    "                    s = s[:pos1 + 1] + inner + s[pos2:]                \n",
    "        return s\n",
    "\n",
    "    def fixupType(item):\n",
    "        if item.isnumeric():\n",
    "            item = float(item)\n",
    "        return item\n",
    "\n",
    "    def fixupTypes(l):\n",
    "        outl = []\n",
    "        for item in l:\n",
    "            item = fixupType(item)\n",
    "            outl.append(item)\n",
    "        return outl\n",
    "\n",
    "    def parseTerms(s):\n",
    "        # cases = '','in', 'between', '<', '>', '='\n",
    "        splitCases = ['>=','>', '<=', '=', '<', 'in', 'between']\n",
    "        terms = []\n",
    "        if s:\n",
    "            # Convert => to >= and =< to <=\n",
    "            s = s.replace('=>', '>=')\n",
    "            s = s.replace('=<', '<=')\n",
    "            toks = s.split(',')\n",
    "            for tok in toks:\n",
    "                tcase = ''\n",
    "                tok = tok.strip()\n",
    "                var = tok\n",
    "                val = None\n",
    "                for c in splitCases:\n",
    "                    t2 = tok.split(c)\n",
    "                    if len(t2) > 1:\n",
    "                        tcase = c\n",
    "                        var = t2[0].strip()\n",
    "                        val = t2[1].strip()\n",
    "                        if tcase == 'in' or tcase == 'between':\n",
    "                            # break up the list\n",
    "                            val = val[1:-1].split(';')\n",
    "                            val = [v.strip() for v in val]\n",
    "                            val = fixupTypes(val)\n",
    "                        else:\n",
    "                            val = fixupType(val)\n",
    "                        break\n",
    "                        \n",
    "                terms.append((tcase, var, val))\n",
    "        return terms\n",
    "\n",
    "    def convertFinalTerms(inTerms):\n",
    "        inf = 999999999\n",
    "        outTerms = []\n",
    "        for term in inTerms:\n",
    "            ttype = term[0]\n",
    "            if ttype == '':\n",
    "                outTerm = (term[1],)\n",
    "            elif ttype == '>':\n",
    "                outTerm = (term[1], term[2]+1/inf, inf)\n",
    "            elif ttype == '>=':\n",
    "                outTerm = (term[1], term[2], inf)\n",
    "            elif ttype == '<':\n",
    "                outTerm = (term[1], -inf, term[2])\n",
    "            elif ttype == '<=':\n",
    "                outTerm = (term[1], -inf, term[2]+1/inf)\n",
    "            elif ttype == '=':\n",
    "                outTerm = (term[1], term[2])\n",
    "            elif ttype == 'between':\n",
    "                outTerm = (term[1], term[2][0], term[2][1])\n",
    "            elif ttype == 'in':\n",
    "                outTerm = (term[1],) + tuple(term[2])\n",
    "            else:\n",
    "                outTerm == ('ERROR', term[1], term[2])\n",
    "            outTerms.append(outTerm)\n",
    "        return outTerms\n",
    "\n",
    "    def parse(strList):\n",
    "        if type(strList) == type(''):\n",
    "            strList = [strList]\n",
    "        outList = []\n",
    "        for s in strList:\n",
    "            orig = s\n",
    "            pos = s.find('(')\n",
    "            assert pos >= 0, 'Error parsing probability query.  No opening parentheses in:' + orig\n",
    "            outtype = s[:pos].strip()\n",
    "            s = s[pos+1:]\n",
    "            pos = s.find(')')\n",
    "            assert pos >=0, 'Error parsing probability query.  No closing parentheses in:' + orig\n",
    "            s = s[:pos]\n",
    "            tok = s.split('|')\n",
    "            targ = tok[0].strip()\n",
    "            if len(tok) > 1:\n",
    "                cond = tok[1].strip()\n",
    "            else:\n",
    "                cond = ''\n",
    "            targ = fixupBrak(targ)\n",
    "            cond = fixupBrak(cond)\n",
    "            tterms1 = parseTerms(targ)\n",
    "            tterms = convertFinalTerms(tterms1)\n",
    "\n",
    "            cterms1 = parseTerms(cond)\n",
    "            cterms = convertFinalTerms(cterms1)\n",
    "            assert outtype in ['P', 'E'], \\\n",
    "                'Error parsing probability query.  Invalid result type:\"' + \\\n",
    "                outtype + '\". Valid types are \"P\" for probability or \"E\" for expectation.'\n",
    "            if outtype == 'P' and len(tterms) == 1 and len(tterms[0]) == 1:\n",
    "                # It is probability with an unbound target. The answer is\n",
    "                # a distribution\n",
    "                outtype = 'D'\n",
    "            outList.append((outtype, tterms, cterms))\n",
    "        return outList\n",
    "\n",
    "def query(ps, inList):\n",
    "    vars = ps.getVarNames()\n",
    "    specs = Parser.parse(inList)\n",
    "    results = []\n",
    "    for i in range(len(specs)):\n",
    "        spec = specs[i]\n",
    "        cmd, targ, cond = spec\n",
    "        for term in targ + cond:\n",
    "            var = term[0]\n",
    "            assert var in vars, 'Error parsing probability query.  Variable name: \"' + repr(var) + \\\n",
    "                '\" is not in dataset.  In:' + inList[i] + '.  Valid variables are:' + \\\n",
    "                str(vars) + '.'\n",
    "            vals = term[1:]\n",
    "            valid = None\n",
    "            for val in vals:\n",
    "                if type(val) == type(''):\n",
    "                    if valid is None:\n",
    "                        valid = ps.getValues(var)\n",
    "                    assert val in valid, 'Error parsing probability query. Invalid value:' + \\\n",
    "                    repr(val) + 'for variable:' + var + '. Valid values are:' + str(valid) + \\\n",
    "                    '.'\n",
    "        if cmd == 'P':\n",
    "            result = ps.P(targ,cond)\n",
    "        elif cmd == 'E':\n",
    "            result = ps.E(targ,cond)\n",
    "        elif cmd == 'D':\n",
    "            result = ps.distr(targ,cond)\n",
    "        results.append(result)\n",
    "    return results\n",
    "\n",
    "def query1(ps, s):\n",
    "    results = Calc(ps, [s])\n",
    "    return results[0]    "
   ]
  },
  {
   "cell_type": "code",
   "execution_count": 106,
   "metadata": {},
   "outputs": [
    {
     "name": "stdout",
     "output_type": "stream",
     "text": [
      "[('P', [('ASDF', 1.0)], [])]\n",
      "[('P', [('A', 1.0)], [('Bob', 1.0)])]\n",
      "[('P', [('A', 1.0)], [('Bob', 1.0), ('C', 1.000000001e-09, 999999999), ('D', -999999999, 0.0), ('E', 1.0, 3.0), ('F', 'fred', 'george', 'charlie'), ('G',)])]\n",
      "[('E', [('A',)], []), ('P', [('A', 1.0, 999999999)], [('B', -999999999, 2.000000001), ('C', 'yes')])]\n"
     ]
    }
   ],
   "source": [
    "print(ProbParse('P(ASDF=1)'))\n",
    "print(ProbParse('P(A=1 | Bob=1)'))\n",
    "print(ProbParse('P(A=1 | Bob=1, C > 0, D<0,E between[1,3], F in [fred, george, charlie], G)'))\n",
    "print(ProbParse(['E(A)',\n",
    "           'P(A>=1|B <= 2, C=yes)']))"
   ]
  },
  {
   "cell_type": "code",
   "execution_count": 5,
   "metadata": {},
   "outputs": [
    {
     "data": {
      "text/html": [
       "<style>.container { width:98% !important; }</style>"
      ],
      "text/plain": [
       "<IPython.core.display.HTML object>"
      ]
     },
     "metadata": {},
     "output_type": "display_data"
    },
    {
     "name": "stdout",
     "output_type": "stream",
     "text": [
      "getData:  290759 records read.\n",
      "N =  285103\n",
      "Variables =  ['age', 'gender', 'weight', 'height', 'ageGroup', 'genhealth', 'asthma_ever', 'asthma', 'skincancer', 'othercancer', 'copd', 'arthritis', 'depression', 'kidneydis', 'diabetes', 'maritaldetail', 'married', 'education', 'veteran', 'income', 'state', 'childcnt', 'sleephours', 'employment', 'smokertype', 'physicalactivity', 'insurance', 'checkup', 'nohospitalcost', 'bmi', 'bmicat', 'drinks']\n"
     ]
    }
   ],
   "source": [
    "%matplotlib widget\n",
    "from IPython.display import display, HTML\n",
    "display(HTML(\"<style>.container { width:98% !important; }</style>\"))\n",
    "import warnings\n",
    "warnings.filterwarnings(\"ignore\")\n",
    "from because.synth import gen_data\n",
    "from because.probability.prob import ProbSpace\n",
    "from because.visualization import cmodel\n",
    "from because.visualization import viz\n",
    "from because.synth import read_data\n",
    "from because.causality import cdisc\n",
    "#from because.probability.probquery import query, queryList\n",
    "from because.probability import probquery\n",
    "r = read_data.Reader('/home/roger/Datasets/llcp.csv')\n",
    "ds = r.read()\n",
    "\n",
    "ps0 = ProbSpace(ds, power=5, categorical=['smokertype'])\n",
    "ps = ps0.SubSpace([('income', 0,9),('education',[1,2,3,4,5,6]), ('smokertype',[1,2,3,4]),('othercancer','yes','no'),\n",
    "                   ('skincancer', 'yes','no'), ('diabetes', 'yes','no'), ('asthma', 'yes', 'no'), ('copd','yes','no'), ('arthritis','yes','no'), \n",
    "                   ('kidneydis','yes','no'), ('depression','yes','no'), ('veteran','yes', 'no')], power=5)\n",
    "\n",
    "print('N = ', ps.N)\n",
    "print('Variables = ', ps.getVarNames())"
   ]
  },
  {
   "cell_type": "code",
   "execution_count": 6,
   "metadata": {},
   "outputs": [
    {
     "name": "stdout",
     "output_type": "stream",
     "text": [
      "0.17264069744842714\n",
      "1-never\n"
     ]
    }
   ],
   "source": [
    "print(probquery.query(ps, 'P(age > 60, gender=male | smokertype in [4-everyday, 3-former], height between [-.5,70])'))\n",
    "print(probquery.query(ps, 'E(smokertype)'))"
   ]
  },
  {
   "cell_type": "code",
   "execution_count": 3,
   "metadata": {},
   "outputs": [
    {
     "data": {
      "text/plain": [
       "[0.07728785737084493,\n",
       " 0.11721036089736643,\n",
       " 63.62659405491264,\n",
       " 0.2075801749271137,\n",
       " 0.059257022047719723,\n",
       " 55.647580862793475,\n",
       " 0.34934497816593885]"
      ]
     },
     "execution_count": 3,
     "metadata": {},
     "output_type": "execute_result"
    }
   ],
   "source": [
    "probquery.queryList(ps, [\n",
    "    'P(copd=yes)',\n",
    "    'P(copd=yes | age > 60, gender=male)',\n",
    "    'E(age | copd=yes)',\n",
    "    'P(copd=yes | age >= 80, smokertype in [4-everyday,3-former])',\n",
    "    'P(copd=yes | age between [70,90], smokertype = 1-never)',\n",
    "    'E(age | income <= 6)',\n",
    "    'P(diabetes=yes | weight >= 400)',\n",
    "])"
   ]
  },
  {
   "cell_type": "code",
   "execution_count": 170,
   "metadata": {},
   "outputs": [
    {
     "name": "stdout",
     "output_type": "stream",
     "text": [
      "['age', 'gender', 'weight', 'height', 'ageGroup', 'genhealth', 'asthma_ever', 'asthma', 'skincancer', 'othercancer', 'copd', 'arthritis', 'depression', 'kidneydis', 'diabetes', 'maritaldetail', 'married', 'education', 'veteran', 'income', 'state', 'childcnt', 'sleephours', 'employment', 'smokertype', 'physicalactivity', 'insurance', 'checkup', 'nohospitalcost', 'bmi', 'bmicat', 'drinks']\n",
      "['1-never', '2-occassional', '3-former', '4-everyday']\n",
      "[18.0, 19.0, 20.0, 21.0, 22.0, 23.0, 24.0, 25.0, 26.0, 27.0, 28.0, 29.0, 30.0, 31.0, 32.0, 33.0, 34.0, 35.0, 36.0, 37.0, 38.0, 39.0, 40.0, 41.0, 42.0, 43.0, 44.0, 45.0, 46.0, 47.0, 48.0, 49.0, 50.0, 51.0, 52.0, 53.0, 54.0, 55.0, 56.0, 57.0, 58.0, 59.0, 60.0, 61.0, 62.0, 63.0, 64.0, 65.0, 66.0, 67.0, 68.0, 69.0, 70.0, 71.0, 72.0, 73.0, 74.0, 75.0, 76.0, 77.0, 78.0, 79.0, 80.0]\n"
     ]
    }
   ],
   "source": [
    "print(ps.getVarNames())\n",
    "print(ps.getValues('smokertype'))\n",
    "print(ps.getValues('age'))\n",
    "print(ps.isStringVar)\n"
   ]
  },
  {
   "cell_type": "code",
   "execution_count": 137,
   "metadata": {},
   "outputs": [
    {
     "name": "stdout",
     "output_type": "stream",
     "text": [
      "64.35367667942495 2.8609842137566384 0.11747007860161898 1.0305287684462598 1\n",
      "70.22651120422661 3.0363745771046586 -0.1434307639652124 0.8861909990024075 1\n"
     ]
    }
   ],
   "source": [
    "dists = Calc(ps, ['P(height | gender=female)',\n",
    "                  'P(height | gender=male)'])\n",
    "for dist in dists:\n",
    "    #print(dist)\n",
    "    #print(dist.mean(), dist.stDev(), dist.skew(), dist.kurtosis(), dist.modality(), dist.truncation())\n",
    "    print(dist.mean(), dist.stDev(), dist.skew(), dist.kurtosis(), dist.modality())"
   ]
  },
  {
   "cell_type": "code",
   "execution_count": null,
   "metadata": {},
   "outputs": [],
   "source": []
  }
 ],
 "metadata": {
  "kernelspec": {
   "display_name": "Python 3",
   "language": "python",
   "name": "python3"
  },
  "language_info": {
   "codemirror_mode": {
    "name": "ipython",
    "version": 3
   },
   "file_extension": ".py",
   "mimetype": "text/x-python",
   "name": "python",
   "nbconvert_exporter": "python",
   "pygments_lexer": "ipython3",
   "version": "3.8.10"
  }
 },
 "nbformat": 4,
 "nbformat_minor": 4
}
